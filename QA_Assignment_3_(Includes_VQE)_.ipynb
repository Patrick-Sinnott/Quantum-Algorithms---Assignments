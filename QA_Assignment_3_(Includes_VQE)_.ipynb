{
  "cells": [
    {
      "cell_type": "markdown",
      "metadata": {
        "id": "view-in-github",
        "colab_type": "text"
      },
      "source": [
        "<a href=\"https://colab.research.google.com/github/Patrick-Sinnott/Quantum-Algorithms---Assignments/blob/main/QA_Assignment_3_(Includes_VQE)_.ipynb\" target=\"_parent\"><img src=\"https://colab.research.google.com/assets/colab-badge.svg\" alt=\"Open In Colab\"/></a>"
      ]
    },
    {
      "cell_type": "markdown",
      "id": "c3d3da16",
      "metadata": {
        "id": "c3d3da16"
      },
      "source": [
        "# Problem set 3\n",
        "\n",
        "## General directions\n",
        "<ul>\n",
        "    <li>Some of the exercises in the following notebook are numerical, and should be performed directly within the notebook. Other exercises are analytical, and should be solved on attached documents. In the latter case, handwritten papers are acceptable, but please make sure to write in a comprehensible manner.</li>\n",
        "    <li>For the numerical tasks, please comment your code to explain what does what. Use meaningful names for variables and functions. </li>\n",
        "    <li>We will need to be able to run the notebook. Make sure that there are no dependencies in the notebook based on files on your computer!</li>\n",
        "    <li>Feel free to look online for help! Python documentation is <a href=\"https://docs.python.org/3/\">here</a>, NumPy documentation <a href=\"https://numpy.org/doc/stable/\">here</a> and Qiskit manual is <a href=\"https://qiskit.org/documentation/\">here</a>. Some specific pages of Qiskit documentation or other useful sources are linked in the relevant questions.</li>\n",
        "</ul>\n",
        "\n",
        "\n",
        "$$\\newcommand{\\ket}[1]{\\left|{#1}\\right\\rangle}$$\n",
        "$$\\newcommand{\\bra}[1]{\\left\\langle{#1}\\right|}$$\n",
        "$$\\newcommand{\\braket}[2]{\\left\\langle{#1}\\middle|{#2}\\right\\rangle}$$"
      ]
    },
    {
      "cell_type": "markdown",
      "id": "b9d0acf0",
      "metadata": {
        "id": "b9d0acf0"
      },
      "source": [
        "# 3.0 - Dependencies\n",
        "Please add all the relevant dependencies for the problems to the following cell and avoid the <code>import</code> command elsewhere."
      ]
    },
    {
      "cell_type": "code",
      "execution_count": null,
      "id": "f9ec3c51",
      "metadata": {
        "id": "f9ec3c51"
      },
      "outputs": [],
      "source": [
        "import numpy as np\n",
        "from matplotlib import pyplot as plt\n",
        "import qiskit\n",
        "\n",
        "from qiskit import *\n",
        "import numpy as np\n",
        "from numpy import linalg as la\n",
        "from qiskit.tools.monitor import job_monitor\n",
        "import qiskit.tools.jupyter\n",
        "from qiskit.circuit import QuantumCircuit, Parameter\n",
        "import scipy\n",
        "from math import log2 as log2\n",
        "aer_sim = Aer.get_backend('aer_simulator')\n",
        "\n",
        "zero = np.array([1,0])\n",
        "one = np.array([0,1])\n",
        "\n",
        "sx = np.array([[0, 1],  [ 1, 0]], dtype=np.complex128)\n",
        "sy = np.array([[0, -1j],[1j, 0]], dtype=np.complex128)\n",
        "sz = np.array([[1, 0],  [0, -1]], dtype=np.complex128)\n",
        "id = np.array([[1, 0],  [ 0, 1]], dtype=np.complex128)\n",
        "S = [id, sx, sy, sz]\n"
      ]
    },
    {
      "cell_type": "markdown",
      "id": "9bfc8a8e",
      "metadata": {
        "id": "9bfc8a8e"
      },
      "source": [
        "# 3.1 - Quantum Fourier Transform (3 pts.)"
      ]
    },
    {
      "cell_type": "markdown",
      "id": "7079f612",
      "metadata": {
        "id": "7079f612"
      },
      "source": [
        "Consider the unitary operator $\\mathcal{F}$ for the Quantum Fourier Transform\n",
        "$$\\mathcal{F} \\ket{j} = \\frac{1}{\\sqrt{N}}\\sum_{k=0}^{N-1} e^{2\\pi i j k /N}\\ket{k}.$$\n",
        "<ol>\n",
        "    <li>Compute explicitly the Fourier transform on the $n$ qubits state $\\ket{0\\ldots 0}$</li>\n",
        "    <li>We already know a quantum circuit able to perform the Fourier Transform. Give a quantum circuit for the inverse Quantum Fourier Transform (i.e., for the operator $\\mathcal{F}^\\dagger$) on 5 qubits. Create that circuit in Qiskit. Transform the circuit into a gate using the adequate functions.\n",
        "        <li>In Qiskit, create the circuit for the Fourier Transform $\\mathcal{F}$ on 5 qubits as well, and transform it into a gate.</li>\n",
        "    <li>Again using Qiskit, create the circuits $\\mathcal{F}\\mathcal{F}^\\dagger$ and $\\mathcal{F}^\\dagger\\mathcal{F}$. Obtain the matrix representation of the two circuits, and show that it is equal to the identity in both cases.</li>\n",
        "</ol>"
      ]
    },
    {
      "cell_type": "code",
      "execution_count": null,
      "id": "7ce1d3ee",
      "metadata": {
        "id": "7ce1d3ee",
        "outputId": "cecc691c-fcf3-41e2-c2fd-3f0181a28ed2"
      },
      "outputs": [
        {
          "data": {
            "text/html": [
              "<pre style=\"word-wrap: normal;white-space: pre;background: #fff0;line-height: 1.1;font-family: &quot;Courier New&quot;,Courier,monospace\">        ┌───┐                                                            »\n",
              "q_0: ─X─┤ H ├─■──────────────■───────────────────■───────────────────────»\n",
              "      │ └───┘ │P(-π/2) ┌───┐ │                   │                       »\n",
              "q_1: ─┼───X───■────────┤ H ├─┼─────────■─────────┼──────────────■────────»\n",
              "      │   │            └───┘ │P(-π/4)  │P(-π/2)  │        ┌───┐ │        »\n",
              "q_2: ─┼───┼──────────────────■─────────■─────────┼────────┤ H ├─┼────────»\n",
              "      │   │                                      │P(-π/8) └───┘ │P(-π/4) »\n",
              "q_3: ─┼───X──────────────────────────────────────■──────────────■────────»\n",
              "      │                                                                  »\n",
              "q_4: ─X──────────────────────────────────────────────────────────────────»\n",
              "                                                                         »\n",
              "«                                                                  \n",
              "«q_0: ─■───────────────────────────────────────────────────────────\n",
              "«      │                                                           \n",
              "«q_1: ─┼────────────────────■──────────────────────────────────────\n",
              "«      │                    │                                      \n",
              "«q_2: ─┼──────────■─────────┼──────────────■───────────────────────\n",
              "«      │          │P(-π/2)  │        ┌───┐ │                       \n",
              "«q_3: ─┼──────────■─────────┼────────┤ H ├─┼─────────■─────────────\n",
              "«      │P(-π/16)            │P(-π/8) └───┘ │P(-π/4)  │P(-π/2) ┌───┐\n",
              "«q_4: ─■────────────────────■──────────────■─────────■────────┤ H ├\n",
              "«                                                             └───┘</pre>"
            ],
            "text/plain": [
              "        ┌───┐                                                            »\n",
              "q_0: ─X─┤ H ├─■──────────────■───────────────────■───────────────────────»\n",
              "      │ └───┘ │P(-π/2) ┌───┐ │                   │                       »\n",
              "q_1: ─┼───X───■────────┤ H ├─┼─────────■─────────┼──────────────■────────»\n",
              "      │   │            └───┘ │P(-π/4)  │P(-π/2)  │        ┌───┐ │        »\n",
              "q_2: ─┼───┼──────────────────■─────────■─────────┼────────┤ H ├─┼────────»\n",
              "      │   │                                      │P(-π/8) └───┘ │P(-π/4) »\n",
              "q_3: ─┼───X──────────────────────────────────────■──────────────■────────»\n",
              "      │                                                                  »\n",
              "q_4: ─X──────────────────────────────────────────────────────────────────»\n",
              "                                                                         »\n",
              "«                                                                  \n",
              "«q_0: ─■───────────────────────────────────────────────────────────\n",
              "«      │                                                           \n",
              "«q_1: ─┼────────────────────■──────────────────────────────────────\n",
              "«      │                    │                                      \n",
              "«q_2: ─┼──────────■─────────┼──────────────■───────────────────────\n",
              "«      │          │P(-π/2)  │        ┌───┐ │                       \n",
              "«q_3: ─┼──────────■─────────┼────────┤ H ├─┼─────────■─────────────\n",
              "«      │P(-π/16)            │P(-π/8) └───┘ │P(-π/4)  │P(-π/2) ┌───┐\n",
              "«q_4: ─■────────────────────■──────────────■─────────■────────┤ H ├\n",
              "«                                                             └───┘"
            ]
          },
          "execution_count": 172,
          "metadata": {},
          "output_type": "execute_result"
        }
      ],
      "source": [
        "N=5\n",
        "\n",
        "def inv_qft(qc, n):\n",
        "    for qubit in range(n//2):\n",
        "        qc.swap(qubit, n-qubit-1)\n",
        "    for j in range(n):\n",
        "        for m in range(j):\n",
        "            qc.cp(-np.pi/float(2**(j-m)), m, j)\n",
        "        qc.h(j)\n",
        "       \n",
        "\n",
        "def qft_rotations(circuit, n):\n",
        "    if n == 0:\n",
        "        return circuit\n",
        "    n -= 1\n",
        "    circuit.h(n)\n",
        "    for qubit in range(n):\n",
        "        circuit.cp(np.pi/2**(n-qubit), qubit, n)\n",
        "    qft_rotations(circuit, n)\n",
        "\n",
        "def qft(circuit, n):\n",
        "    qft_rotations(circuit, n)\n",
        "    for qubit in range(n//2):\n",
        "        circuit.swap(qubit, n-qubit-1)\n",
        "    return circuit\n",
        "    \n",
        "qc = qiskit.QuantumCircuit(N)\n",
        "inv_qft(qc,N)\n",
        "qftdag=qc.to_gate()\n",
        "qc.draw()"
      ]
    },
    {
      "cell_type": "code",
      "execution_count": null,
      "id": "a888f5a6",
      "metadata": {
        "id": "a888f5a6",
        "outputId": "1f1b8867-2c2e-4ce0-c1ca-20c77e5c6499"
      },
      "outputs": [
        {
          "data": {
            "text/html": [
              "<pre style=\"word-wrap: normal;white-space: pre;background: #fff0;line-height: 1.1;font-family: &quot;Courier New&quot;,Courier,monospace\">                                                                               »\n",
              "q_0: ──────■─────────────────────────────────────────■─────────────────────────»\n",
              "           │                                         │                         »\n",
              "q_1: ──────┼─────────■───────────────────────────────┼────────■────────────────»\n",
              "           │         │                               │        │                »\n",
              "q_2: ──────┼─────────┼────────■──────────────────────┼────────┼────────■───────»\n",
              "           │         │        │                ┌───┐ │P(π/8)  │P(π/4)  │P(π/2) »\n",
              "q_3: ──────┼─────────┼────────┼────────■───────┤ H ├─■────────■────────■───────»\n",
              "     ┌───┐ │P(π/16)  │P(π/8)  │P(π/4)  │P(π/2) └───┘                           »\n",
              "q_4: ┤ H ├─■─────────■────────■────────■───────────────────────────────────────»\n",
              "     └───┘                                                                     »\n",
              "«                                          ┌───┐   \n",
              "«q_0: ──────■──────────────────────■───────┤ H ├─X─\n",
              "«           │                ┌───┐ │P(π/2) └───┘ │ \n",
              "«q_1: ──────┼────────■───────┤ H ├─■─────────X───┼─\n",
              "«     ┌───┐ │P(π/4)  │P(π/2) └───┘           │   │ \n",
              "«q_2: ┤ H ├─■────────■───────────────────────┼───┼─\n",
              "«     └───┘                                  │   │ \n",
              "«q_3: ───────────────────────────────────────X───┼─\n",
              "«                                                │ \n",
              "«q_4: ───────────────────────────────────────────X─\n",
              "«                                                  </pre>"
            ],
            "text/plain": [
              "                                                                               »\n",
              "q_0: ──────■─────────────────────────────────────────■─────────────────────────»\n",
              "           │                                         │                         »\n",
              "q_1: ──────┼─────────■───────────────────────────────┼────────■────────────────»\n",
              "           │         │                               │        │                »\n",
              "q_2: ──────┼─────────┼────────■──────────────────────┼────────┼────────■───────»\n",
              "           │         │        │                ┌───┐ │P(π/8)  │P(π/4)  │P(π/2) »\n",
              "q_3: ──────┼─────────┼────────┼────────■───────┤ H ├─■────────■────────■───────»\n",
              "     ┌───┐ │P(π/16)  │P(π/8)  │P(π/4)  │P(π/2) └───┘                           »\n",
              "q_4: ┤ H ├─■─────────■────────■────────■───────────────────────────────────────»\n",
              "     └───┘                                                                     »\n",
              "«                                          ┌───┐   \n",
              "«q_0: ──────■──────────────────────■───────┤ H ├─X─\n",
              "«           │                ┌───┐ │P(π/2) └───┘ │ \n",
              "«q_1: ──────┼────────■───────┤ H ├─■─────────X───┼─\n",
              "«     ┌───┐ │P(π/4)  │P(π/2) └───┘           │   │ \n",
              "«q_2: ┤ H ├─■────────■───────────────────────┼───┼─\n",
              "«     └───┘                                  │   │ \n",
              "«q_3: ───────────────────────────────────────X───┼─\n",
              "«                                                │ \n",
              "«q_4: ───────────────────────────────────────────X─\n",
              "«                                                  "
            ]
          },
          "execution_count": 173,
          "metadata": {},
          "output_type": "execute_result"
        }
      ],
      "source": [
        "qc = QuantumCircuit(N)\n",
        "qft(qc,N)\n",
        "qc.draw()\n",
        "qft=qc.to_gate(label='QFT')\n",
        "qc.draw()"
      ]
    },
    {
      "cell_type": "code",
      "execution_count": null,
      "id": "3d368279",
      "metadata": {
        "id": "3d368279",
        "outputId": "127628f2-ed25-4690-ff9d-8687e3bffb81"
      },
      "outputs": [
        {
          "name": "stdout",
          "output_type": "stream",
          "text": [
            "Operator([[ 1.-0.j,  0.+0.j,  0.+0.j, ...,  0.+0.j, -0.-0.j,  0.+0.j],\n",
            "          [ 0.+0.j,  1.-0.j,  0.+0.j, ..., -0.-0.j,  0.+0.j, -0.-0.j],\n",
            "          [-0.-0.j,  0.+0.j,  1.-0.j, ...,  0.+0.j, -0.+0.j,  0.+0.j],\n",
            "          ...,\n",
            "          [ 0.+0.j,  0.+0.j,  0.+0.j, ...,  1.-0.j,  0.+0.j,  0.-0.j],\n",
            "          [ 0.+0.j,  0.+0.j,  0.+0.j, ...,  0.+0.j,  1.-0.j,  0.+0.j],\n",
            "          [ 0.+0.j,  0.+0.j,  0.+0.j, ..., -0.+0.j,  0.+0.j,  1.-0.j]],\n",
            "         input_dims=(2, 2, 2, 2, 2), output_dims=(2, 2, 2, 2, 2))\n"
          ]
        }
      ],
      "source": [
        "qubs = np.arange(N)\n",
        "qubs = list(qubs)\n",
        "qc1 = QuantumCircuit(N)\n",
        "qc1.append(qftdag,qubs)\n",
        "qc1.append(qft,qubs)\n",
        "backend = Aer.get_backend('unitary_simulator')\n",
        "job = execute(qc1, backend)\n",
        "result = job.result()\n",
        "print(result.get_unitary(qc1, decimals=3))"
      ]
    },
    {
      "cell_type": "code",
      "execution_count": null,
      "id": "d19fd8a0",
      "metadata": {
        "id": "d19fd8a0",
        "outputId": "30346617-4251-4069-c014-221a3d24edcb"
      },
      "outputs": [
        {
          "name": "stdout",
          "output_type": "stream",
          "text": [
            "Operator([[ 1.-0.j, -0.+0.j, -0.-0.j, ...,  0.+0.j,  0.+0.j,  0.+0.j],\n",
            "          [ 0.+0.j,  1.-0.j, -0.-0.j, ..., -0.+0.j,  0.+0.j,  0.-0.j],\n",
            "          [ 0.+0.j,  0.+0.j,  1.-0.j, ..., -0.+0.j,  0.+0.j,  0.+0.j],\n",
            "          ...,\n",
            "          [-0.-0.j, -0.-0.j, -0.+0.j, ...,  1.-0.j, -0.+0.j, -0.+0.j],\n",
            "          [-0.-0.j, -0.+0.j, -0.+0.j, ...,  0.+0.j,  1.-0.j, -0.-0.j],\n",
            "          [-0.-0.j, -0.-0.j, -0.+0.j, ...,  0.-0.j,  0.+0.j,  1.-0.j]],\n",
            "         input_dims=(2, 2, 2, 2, 2), output_dims=(2, 2, 2, 2, 2))\n"
          ]
        }
      ],
      "source": [
        "qc2 = QuantumCircuit(N)\n",
        "qc2.append(qft,qubs)\n",
        "qc2.append(qftdag,qubs)\n",
        "backend = Aer.get_backend('unitary_simulator')\n",
        "job = execute(qc2, backend)\n",
        "result = job.result()\n",
        "print(result.get_unitary(qc2, decimals=3))"
      ]
    },
    {
      "cell_type": "markdown",
      "id": "da67239f",
      "metadata": {
        "id": "da67239f"
      },
      "source": [
        "We can see that these both matrices are equal to unity"
      ]
    },
    {
      "cell_type": "markdown",
      "id": "59162faa",
      "metadata": {
        "id": "59162faa"
      },
      "source": [
        "# 3.2 - Quantum Phase Estimation (6 pts. total)\n",
        "\n",
        "## 3.2.a Qiskit code /1 (3 pts.)"
      ]
    },
    {
      "cell_type": "markdown",
      "id": "2d8d4c99",
      "metadata": {
        "id": "2d8d4c99"
      },
      "source": [
        "<ol>\n",
        "    <li>In Qiskit, create the quantum circuit for quantum phase estimation of a <code>T-gate</code>. How many qubits do you need to consider to obtain an exact value for the phase for the eigenstate $\\ket{0}$? And for the eigenstate $\\ket{1}$?</li>\n",
        "    <li>Create a complete Python function <code>phase_estimation(oracle, eigenstate, number_qubits)</code> which performs the phase estimation for a generic oracle <code>oracle</code>, on the eigenstate <code>eigenstate</code>, and employing <code>number_qubits</code> qubits. The function should perform a quantum simulation, and return the estimated value of the phase (i.e., to bit-precision of <code>number_qubits</code>). Apply the function to the <code>T-gate</code> of the previous exercise, and verify that it works as expected.</li>\n",
        "    <li>Now, run the function with a different oracle, given by $R_z(\\frac{1}{3})$. What happens?</li>\n",
        "    <li>In a graph, plot the highest-probability result obtained for the phase estimation on $R_z(\\frac{1}{3})$, as a function of the number of employed qubits <code>number_qubits</code>.</li>\n",
        "</ol>"
      ]
    },
    {
      "cell_type": "code",
      "execution_count": null,
      "id": "902a1114",
      "metadata": {
        "id": "902a1114"
      },
      "outputs": [],
      "source": []
    },
    {
      "cell_type": "code",
      "execution_count": null,
      "id": "6fe6acfe",
      "metadata": {
        "id": "6fe6acfe"
      },
      "outputs": [],
      "source": []
    },
    {
      "cell_type": "markdown",
      "id": "b06826f3",
      "metadata": {
        "id": "b06826f3"
      },
      "source": []
    },
    {
      "cell_type": "code",
      "execution_count": null,
      "id": "7c28b407",
      "metadata": {
        "id": "7c28b407"
      },
      "outputs": [],
      "source": []
    },
    {
      "cell_type": "code",
      "execution_count": null,
      "id": "74544175",
      "metadata": {
        "id": "74544175"
      },
      "outputs": [],
      "source": []
    },
    {
      "cell_type": "markdown",
      "id": "7b48f654",
      "metadata": {
        "id": "7b48f654"
      },
      "source": [
        "## 3.2.b Analytical treatment of the error (3 pts.)\n",
        "After the controlled application of the oracle, but before the final Fourier Transform, the state of the $m$-qubits first register is:\n",
        "$$\\ket{\\theta} = \\frac{1}{2^m} \\sum_{k=0}^{2^m-1} e^{2\\pi i k \\theta} \\ket{k}$$\n",
        "where $\\theta$ is the parameter to be estimated. \n",
        "\n",
        "<ol>\n",
        "    <li>Apply the transform to $\\ket{\\theta}$, and give and analytical expression for the output state.</li>\n",
        "    <li>Determine the probability to obtain an outcome $j \\in \\{0,\\ldots,2^m-1\\}$ when performing the measurement.</li>\n",
        "    <li>Show that, if there exists a $j=\\tilde{j}$ such that $\\theta=\\frac{\\tilde{j}}{2^m}$ (i.e. $\\theta$ has an exact representation in $m$ bits), then the outcome of the measurement is $j$ with unitary probability.</li>\n",
        "    <li>If this is not the case, let $j^*$ be the specific value of $j$ which gives the best estimation $\\frac{j^*}{2^m}$ of $\\theta$. In other terms, it should be true that $\\theta = \\frac{j}{2^m} +\\varepsilon$, where $|\\varepsilon| < 2^{-(m+1)}$. Prove that the probability of getting the outcome $j^*$ for the measurement is larger than $\\frac{4}{\\pi^2}$. </li>\n",
        "</ol>\n",
        "\n",
        "<b>Hint/1.</b> You could find useful the formula for the summation of geometric progression, see <a href=\"https://en.wikipedia.org/wiki/Geometric_progression\">here</a>. <br>\n",
        "<b>Hint/2.</b> The following inequalities are given:\n",
        "$$\\frac{2\\pi |\\varepsilon| 2^m}{|e^{2\\pi i \\varepsilon 2^m}-1|}\\leq \\frac{\\pi}{2}$$ <br>\n",
        "$$|e^{2\\pi i \\varepsilon} - 1| \\leq 2\\pi |\\varepsilon|$$"
      ]
    },
    {
      "cell_type": "markdown",
      "id": "3a4ca423",
      "metadata": {
        "id": "3a4ca423"
      },
      "source": [
        "# 3.3 - Period finding (6 pts. total)\n",
        "Consider a function $f:\\mathbb{Z}_N\\to C$, where $C$ is a finite set of values. Suppose that $f$ is known to be periodic; namely:\n",
        "$$\\exists s \\in Z_N - \\{0\\} \\mbox{ s.t. } f(x+s)=f(x)\\,\\,\\,\\, \\forall x \\in Z_N$$\n",
        "Furthermore, in each period, each symbol appears only once.\n",
        "The goal of this problem is to obtain $s$. For the sake of simplicity, assume $N = 2^n$ for some $n$.\n",
        "\n",
        "## 3.3.a Classical version (1 pt.)\n",
        "<ol>\n",
        "  <li>Show that the periodicity condition implies that $s$ divides $N$. </li>\n",
        "  <li>Show that the problem can be solved on a classical calculator with $\\mathcal{O}(n)$ evaluations of the function $f$, where $n = \\log_2 N$.  </li>\n",
        "</ol>"
      ]
    },
    {
      "cell_type": "markdown",
      "id": "46ace700",
      "metadata": {
        "id": "46ace700"
      },
      "source": [
        "## 3.3.b Quantum protocol (2 pts.)\n",
        "Consider an oracle $O_f$, acting as follows:\n",
        "$$O_f(\\ket{x}\\ket{b}) = \\ket{x}\\ket{b\\oplus f(x)}$$\n",
        "where $b$ is a string of length $m$, and $\\oplus$ represents the sum modulus $2^m$. Consider the following protocol:\n",
        "<ul>\n",
        "  <li>Prepare the state \n",
        "    $$\\frac{1}{\\sqrt{N}} \\sum_{x\\in Z_N} \\ket{x}$$\n",
        "    These first qubits constitute the <b>first register</b>.\n",
        "  </li>\n",
        "  <li> Attach a <b>second register</b> register in stae $\\ket{0^m}$.</li>\n",
        "  <li> Query the oracle $O_f$ on the current input.</li>\n",
        "  <li> Measure the second register in the computational basis.</li>\n",
        "  <li> Apply the Quantum Fourier Transform to the first register.</li> \n",
        "  <li> Measure the first register. </li>\n",
        "</ul>\n",
        "\n",
        "<ol>\n",
        "  <li>Let $c \\in C$ be fixed. Show that the probability of getting $c$ as outcome for the measurement on the second register is $\\frac{1}{s}$.</li>\n",
        "  <li>Write the state of the first register after having obtained $c$ as measurement outcome on the second register.</li>\n",
        "</ol>\n",
        "\n",
        "<b>Hint.</b> It could be useful to define the auxiliary function \n",
        "$$f_c(x) = \\begin{cases}1 & \\mbox{ if } f(x)=c \\\\ 0 & \\mbox { otherwise}\\end{cases}$$"
      ]
    },
    {
      "cell_type": "markdown",
      "id": "448307f1",
      "metadata": {
        "id": "448307f1"
      },
      "source": [
        "## 3.3.c The Fourier coefficients /1 (1 pt.)\n",
        "Consider a function $g: \\mathbb{Z}_N \\to C$ and a number $t \\in \\mathbb{Z}_N$. Let $k: \\mathbb{Z}_N \\to C$ be another function such that $k(x) = g(x+t)$. Show that $g$ and $k$ have the same Fourier coefficients, except for a multiplicative factor of absolute value 1.\n",
        "\n",
        "Notice that from this it follows that the measurement outcome on the first register does not depend on the $c$ we measured on the second register. Without loss of generality, we can therefore assume to have measured $f(0)=c$. Therefore:\n",
        "$$f_c(x)=\\begin{cases}1 & \\mbox{ if } x=0,s,2s,\\ldots \\\\ 0 & \\mbox{ otherwise}\\end{cases}$$"
      ]
    },
    {
      "cell_type": "markdown",
      "id": "a6908e98",
      "metadata": {
        "id": "a6908e98"
      },
      "source": [
        "## 3.3.d The Fourier coefficients /2 (1 pt.)\n",
        "Prove that $f_c(x)$ defined in this way has Fourier coefficients given by:\n",
        "$$\\hat{f_c}(\\gamma) = \\begin{cases}\\frac{1}{s} & \\mbox{ if } \\gamma \\in \\{0, N/s, 2N/s,\\ldots\\} \\\\ 0 & \\mbox{ otherwise}\\end{cases}$$\n",
        "\n",
        "It follows that, when performing the measurement on the first register, we are sampling uniformly a value of $\\gamma$ from the set $\\{0, N/s, 2N/s, \\ldots \\}$, or equivalently from the $\\gamma$ values such that $\\gamma s =0 \\mod N$."
      ]
    },
    {
      "cell_type": "markdown",
      "id": "498a3852",
      "metadata": {
        "id": "498a3852"
      },
      "source": [
        "## 3.3.e Finding the period (1 pt.)\n",
        "Describe how the measurement outcomes obtained from the measurement on the first register can be exploited to find the period of the function $f$."
      ]
    },
    {
      "cell_type": "markdown",
      "id": "ad16422b",
      "metadata": {
        "id": "ad16422b"
      },
      "source": [
        "# 3.4 - Shor's factoring (5 pts. total)\n",
        "The aim of this exercise is to build a specific implementation of Shor's factoring algorithm, which will allow factorisation of the number $15$. "
      ]
    },
    {
      "cell_type": "markdown",
      "id": "cead860f",
      "metadata": {
        "id": "cead860f"
      },
      "source": [
        "## 3.4.a Classical auxiliary functions  (1 pt.)\n",
        "First of all, some classical subroutines are required. Write the following Python functions:\n",
        "<ol>\n",
        "    <li>a <code>gcd(x,y)</code> function, which computes the greatest common divisor between the numbers <code>x</code> and <code>y</code>. </li>\n",
        "    <li>a <code>verify_factor(N,x)</code> function, which verifies whether <code>x</code> is a factor of <code>N</code>. \n",
        "</ol>\n",
        "Discuss the scaling of the computational complexity of the latter function, depending on the number of bits required to encode $N$, in terms of the $NP$ class."
      ]
    },
    {
      "cell_type": "code",
      "execution_count": null,
      "id": "60d7f2bf",
      "metadata": {
        "id": "60d7f2bf"
      },
      "outputs": [],
      "source": [
        "def gcd(x, y):\n",
        "    while y != 0:\n",
        "        (x, y) = (y, x % y)\n",
        "        return x\n",
        "\n",
        "def verify_factor(N, x):\n",
        "    if (N%x == 0) and (N >= x) :\n",
        "         return True\n",
        "    else:\n",
        "        return False"
      ]
    },
    {
      "cell_type": "markdown",
      "id": "683f20ad",
      "metadata": {
        "id": "683f20ad"
      },
      "source": [
        "Latter function scales exponentially\n"
      ]
    },
    {
      "cell_type": "markdown",
      "id": "90fdf959",
      "metadata": {
        "id": "90fdf959"
      },
      "source": [
        "## 3.4.b Classical period finding (1 pt.)\n",
        "Consider the function\n",
        "$$f(x) = a^x \\mod N$$\n",
        "where $a$, $x$ and $N$ are numbers in $\\mathbb{N}$. It can be shown that the function $f(x)$ is periodic, and that each value of $f(x)$ appears only once in each period.\n",
        "\n",
        "Write a Python function <code>classical_period_find(a,N)</code> able to compute the period of the function $f(x)$ for given $a$ and $N$. Discuss the complexity of the function, in terms of the bits required to encode $N$.\n",
        "\n",
        "Write also a Python function <code>period_verify(a,N,p)</code>, which verifies whether the proposed $p$ is the right period for $f(x)$. Discuss its complexity in terms of the bits required to encode $N$. Discuss the relation between <code>classical_period_find</code> and <code>period_verify</code> in terms of the $NP$ complexity class."
      ]
    },
    {
      "cell_type": "code",
      "execution_count": null,
      "id": "908edc02",
      "metadata": {
        "id": "908edc02",
        "outputId": "897dcf6b-3ba8-4c69-9acf-b7e864a3adc7"
      },
      "outputs": [
        {
          "data": {
            "text/plain": [
              "4"
            ]
          },
          "execution_count": 177,
          "metadata": {},
          "output_type": "execute_result"
        }
      ],
      "source": [
        "def period_verify(a, N, ans):\n",
        "    if classical_period_find(a, N) == ans:\n",
        "        return True\n",
        "    else:\n",
        "        return False\n",
        "\n",
        "def classical_period_find(a, N):\n",
        "    f = lambda x, a, N: a**x % N \n",
        "    f_initial= f(1, a, N) \n",
        "    x = 2\n",
        "    while f_initial != f(x, a, N): \n",
        "        x+=1 \n",
        "        \n",
        "    return x -2 +1 \n",
        "\n",
        "\n",
        "\n",
        "classical_period_find(2, 15)\n",
        "\n"
      ]
    },
    {
      "cell_type": "code",
      "execution_count": null,
      "id": "5799f923",
      "metadata": {
        "id": "5799f923",
        "outputId": "abc8ea95-f615-45ea-ed39-302c25f28cc0"
      },
      "outputs": [
        {
          "data": {
            "text/plain": [
              "True"
            ]
          },
          "execution_count": 178,
          "metadata": {},
          "output_type": "execute_result"
        }
      ],
      "source": [
        "period_verify(2, 15,4)"
      ]
    },
    {
      "cell_type": "markdown",
      "id": "f18d20c7",
      "metadata": {
        "id": "f18d20c7"
      },
      "source": [
        "Number of bits needed to encode N sclaes logarithmically. Both functions are in the NP class"
      ]
    },
    {
      "cell_type": "markdown",
      "id": "1e32e01a",
      "metadata": {
        "id": "1e32e01a"
      },
      "source": [
        "## 3.4.c Quantum period finding (1 pt.)\n",
        "For the specific case of $a=2$, $N=15$, write the Qiskit code for quantum period finding (Shor's algorithm). "
      ]
    },
    {
      "cell_type": "code",
      "execution_count": null,
      "id": "1edbb7ca",
      "metadata": {
        "id": "1edbb7ca",
        "outputId": "ad6cc097-e9c1-4d51-ff9b-09aaed1b0645"
      },
      "outputs": [
        {
          "data": {
            "text/html": [
              "<pre style=\"word-wrap: normal;white-space: pre;background: #fff0;line-height: 1.1;font-family: &quot;Courier New&quot;,Courier,monospace\">     ┌───┐                                                                    »\n",
              "q_0: ┤ H ├────────■───────────────────────────────────────────────────────────»\n",
              "     ├───┤        │                                                           »\n",
              "q_1: ┤ H ├────────┼────────────────■─────────────────────────────────X────────»\n",
              "     ├───┤        │                │                                 │        »\n",
              "q_2: ┤ H ├────────┼────────────────┼────────────────■────────────────X────────»\n",
              "     ├───┤        │                │                │                         »\n",
              "q_3: ┤ H ├────────┼────────────────┼────────────────┼────────────────■────────»\n",
              "     └───┘┌───────┴───────┐┌───────┴───────┐┌───────┴───────┐┌───────┴───────┐»\n",
              "q_4: ─────┤0              ├┤0              ├┤0              ├┤0              ├»\n",
              "          │               ││               ││               ││               │»\n",
              "q_5: ─────┤1              ├┤1              ├┤1              ├┤1              ├»\n",
              "          │  circuit-8237 ││  circuit-8247 ││  circuit-8260 ││  circuit-8279 │»\n",
              "q_6: ─────┤2              ├┤2              ├┤2              ├┤2              ├»\n",
              "     ┌───┐│               ││               ││               ││               │»\n",
              "q_7: ┤ X ├┤3              ├┤3              ├┤3              ├┤3              ├»\n",
              "     └───┘└───────────────┘└───────────────┘└───────────────┘└───────────────┘»\n",
              "c: 4/═════════════════════════════════════════════════════════════════════════»\n",
              "                                                                              »\n",
              "«        ┌───┐                                                            ┌─┐»\n",
              "«q_0: ─X─┤ H ├─■──────────────■───────────────────■───────────────────────┤M├»\n",
              "«      │ └───┘ │P(-π/2) ┌───┐ │                   │                       └╥┘»\n",
              "«q_1: ─┼───────■────────┤ H ├─┼─────────■─────────┼──────────────■─────────╫─»\n",
              "«      │                └───┘ │P(-π/4)  │P(-π/2)  │        ┌───┐ │         ║ »\n",
              "«q_2: ─┼──────────────────────■─────────■─────────┼────────┤ H ├─┼─────────╫─»\n",
              "«      │                                          │P(-π/8) └───┘ │P(-π/4)  ║ »\n",
              "«q_3: ─X──────────────────────────────────────────■──────────────■─────────╫─»\n",
              "«                                                                          ║ »\n",
              "«q_4: ─────────────────────────────────────────────────────────────────────╫─»\n",
              "«                                                                          ║ »\n",
              "«q_5: ─────────────────────────────────────────────────────────────────────╫─»\n",
              "«                                                                          ║ »\n",
              "«q_6: ─────────────────────────────────────────────────────────────────────╫─»\n",
              "«                                                                          ║ »\n",
              "«q_7: ─────────────────────────────────────────────────────────────────────╫─»\n",
              "«                                                                          ║ »\n",
              "«c: 4/═════════════════════════════════════════════════════════════════════╩═»\n",
              "«                                                                          0 »\n",
              "«                             \n",
              "«q_0: ────────────────────────\n",
              "«               ┌─┐           \n",
              "«q_1: ──────────┤M├───────────\n",
              "«               └╥┘     ┌─┐   \n",
              "«q_2: ─■─────────╫──────┤M├───\n",
              "«      │P(-π/2)  ║ ┌───┐└╥┘┌─┐\n",
              "«q_3: ─■─────────╫─┤ H ├─╫─┤M├\n",
              "«                ║ └───┘ ║ └╥┘\n",
              "«q_4: ───────────╫───────╫──╫─\n",
              "«                ║       ║  ║ \n",
              "«q_5: ───────────╫───────╫──╫─\n",
              "«                ║       ║  ║ \n",
              "«q_6: ───────────╫───────╫──╫─\n",
              "«                ║       ║  ║ \n",
              "«q_7: ───────────╫───────╫──╫─\n",
              "«                ║       ║  ║ \n",
              "«c: 4/═══════════╩═══════╩══╩═\n",
              "«                1       2  3 </pre>"
            ],
            "text/plain": [
              "     ┌───┐                                                                    »\n",
              "q_0: ┤ H ├────────■───────────────────────────────────────────────────────────»\n",
              "     ├───┤        │                                                           »\n",
              "q_1: ┤ H ├────────┼────────────────■─────────────────────────────────X────────»\n",
              "     ├───┤        │                │                                 │        »\n",
              "q_2: ┤ H ├────────┼────────────────┼────────────────■────────────────X────────»\n",
              "     ├───┤        │                │                │                         »\n",
              "q_3: ┤ H ├────────┼────────────────┼────────────────┼────────────────■────────»\n",
              "     └───┘┌───────┴───────┐┌───────┴───────┐┌───────┴───────┐┌───────┴───────┐»\n",
              "q_4: ─────┤0              ├┤0              ├┤0              ├┤0              ├»\n",
              "          │               ││               ││               ││               │»\n",
              "q_5: ─────┤1              ├┤1              ├┤1              ├┤1              ├»\n",
              "          │  circuit-8237 ││  circuit-8247 ││  circuit-8260 ││  circuit-8279 │»\n",
              "q_6: ─────┤2              ├┤2              ├┤2              ├┤2              ├»\n",
              "     ┌───┐│               ││               ││               ││               │»\n",
              "q_7: ┤ X ├┤3              ├┤3              ├┤3              ├┤3              ├»\n",
              "     └───┘└───────────────┘└───────────────┘└───────────────┘└───────────────┘»\n",
              "c: 4/═════════════════════════════════════════════════════════════════════════»\n",
              "                                                                              »\n",
              "«        ┌───┐                                                            ┌─┐»\n",
              "«q_0: ─X─┤ H ├─■──────────────■───────────────────■───────────────────────┤M├»\n",
              "«      │ └───┘ │P(-π/2) ┌───┐ │                   │                       └╥┘»\n",
              "«q_1: ─┼───────■────────┤ H ├─┼─────────■─────────┼──────────────■─────────╫─»\n",
              "«      │                └───┘ │P(-π/4)  │P(-π/2)  │        ┌───┐ │         ║ »\n",
              "«q_2: ─┼──────────────────────■─────────■─────────┼────────┤ H ├─┼─────────╫─»\n",
              "«      │                                          │P(-π/8) └───┘ │P(-π/4)  ║ »\n",
              "«q_3: ─X──────────────────────────────────────────■──────────────■─────────╫─»\n",
              "«                                                                          ║ »\n",
              "«q_4: ─────────────────────────────────────────────────────────────────────╫─»\n",
              "«                                                                          ║ »\n",
              "«q_5: ─────────────────────────────────────────────────────────────────────╫─»\n",
              "«                                                                          ║ »\n",
              "«q_6: ─────────────────────────────────────────────────────────────────────╫─»\n",
              "«                                                                          ║ »\n",
              "«q_7: ─────────────────────────────────────────────────────────────────────╫─»\n",
              "«                                                                          ║ »\n",
              "«c: 4/═════════════════════════════════════════════════════════════════════╩═»\n",
              "«                                                                          0 »\n",
              "«                             \n",
              "«q_0: ────────────────────────\n",
              "«               ┌─┐           \n",
              "«q_1: ──────────┤M├───────────\n",
              "«               └╥┘     ┌─┐   \n",
              "«q_2: ─■─────────╫──────┤M├───\n",
              "«      │P(-π/2)  ║ ┌───┐└╥┘┌─┐\n",
              "«q_3: ─■─────────╫─┤ H ├─╫─┤M├\n",
              "«                ║ └───┘ ║ └╥┘\n",
              "«q_4: ───────────╫───────╫──╫─\n",
              "«                ║       ║  ║ \n",
              "«q_5: ───────────╫───────╫──╫─\n",
              "«                ║       ║  ║ \n",
              "«q_6: ───────────╫───────╫──╫─\n",
              "«                ║       ║  ║ \n",
              "«q_7: ───────────╫───────╫──╫─\n",
              "«                ║       ║  ║ \n",
              "«c: 4/═══════════╩═══════╩══╩═\n",
              "«                1       2  3 "
            ]
          },
          "execution_count": 179,
          "metadata": {},
          "output_type": "execute_result"
        }
      ],
      "source": [
        "n_count = 4\n",
        "def U15(n, p): \n",
        "    if n not in [2,7,8,11,13]:\n",
        "        return 0\n",
        "    \n",
        "    Q = QuantumCircuit(4)\n",
        "    \n",
        "    for i in range(p):\n",
        "        if n in [2,13]:\n",
        "            Q.swap(0,1)\n",
        "            Q.swap(1,2)\n",
        "            Q.swap(2,3)\n",
        "        if n in [7,8]:\n",
        "            Q.swap(2,3)\n",
        "            Q.swap(1,2)\n",
        "            Q.swap(0,1)\n",
        "        if n == 11:\n",
        "            Q.swap(1,3)\n",
        "            Q.swap(0,2)\n",
        "        if n in [7,11,13]:\n",
        "            for q in range(4):\n",
        "                Q.x(q)\n",
        "                \n",
        "    Q = Q.to_gate()\n",
        "    c_Q = Q.control()\n",
        "    return c_Q\n",
        "\n",
        "\n",
        "def create_shor_qc(a, N, n_count = 4):\n",
        "    qc = QuantumCircuit(n_count + 4, n_count)\n",
        "\n",
        "    \n",
        "    qc.h(range(n_count))\n",
        "        \n",
        "    \n",
        "    qc.x(3 + n_count)\n",
        "\n",
        "   \n",
        "    for q in range(n_count):\n",
        "        qc.append(U15(a, 2**q), \n",
        "                [q] + [i+n_count for i in range(4)])\n",
        "\n",
        "    \n",
        "    inv_qft(qc,n_count)\n",
        "    return qc\n",
        "\n",
        "a=2\n",
        "N=15\n",
        "\n",
        "qc = create_shor_qc(a, N)\n",
        "\n",
        "\n",
        "qc.measure(range(n_count), range(n_count))\n",
        "qc.draw()   "
      ]
    },
    {
      "cell_type": "code",
      "execution_count": null,
      "id": "333a2abe",
      "metadata": {
        "id": "333a2abe",
        "outputId": "ffc5ebc3-65ec-428e-b583-8987156c96ad"
      },
      "outputs": [
        {
          "data": {
            "text/plain": [
              "[8, 0, 4, 12]"
            ]
          },
          "execution_count": 180,
          "metadata": {},
          "output_type": "execute_result"
        }
      ],
      "source": [
        "result = list(aer_sim.run(transpile(qc, aer_sim)).result().get_counts().keys())\n",
        "end_result = [int(r, 2) for r in result]\n",
        "end_result"
      ]
    },
    {
      "cell_type": "markdown",
      "id": "ece98987",
      "metadata": {
        "id": "ece98987"
      },
      "source": [
        "Note: Circuit seems to be nearly doing the right thing but the order is mixed for some reason"
      ]
    },
    {
      "cell_type": "markdown",
      "id": "9b16e0b3",
      "metadata": {
        "id": "9b16e0b3"
      },
      "source": [
        "Pass the most frequent outcomes to the following function, which estimates the compatible periods using a variant of the continuous-fractions algorithm. You can verify which one of the candidates is the \"right\" period using the <code>period_verify</code> function."
      ]
    },
    {
      "cell_type": "code",
      "execution_count": null,
      "id": "017a7b31",
      "metadata": {
        "id": "017a7b31",
        "outputId": "f27d1922-bd0c-4be1-d76b-5e8b8e812ac5"
      },
      "outputs": [
        {
          "name": "stdout",
          "output_type": "stream",
          "text": [
            "True\n"
          ]
        }
      ],
      "source": [
        "def period_guess(x):\n",
        "    Range = 16\n",
        "    \n",
        "    if x < Range/2:\n",
        "        x = Range - x\n",
        "        \n",
        "    \n",
        "    \n",
        "    g = []\n",
        "    Real = x / Range\n",
        "    b= 1.\n",
        "    zero = 0\n",
        "    one = 1\n",
        "    two = 0\n",
        "    \n",
        " \n",
        "    \n",
        "    for denominator in range(1, x):\n",
        "            numerator = round(denominator * Real)\n",
        "            estimated = numerator / denominator \n",
        "            error = abs(estimated - Real)\n",
        "        \n",
        "            zero = one\n",
        "            one = two\n",
        "            two = error\n",
        "        \n",
        "            if one  <=  b and one < zero and one < two:\n",
        "                repeat_period = denominator - 1\n",
        "                g.append(denominator - 1)\n",
        "                b = one\n",
        "            if 0 in g:\n",
        "                g.remove(0)\n",
        "        \n",
        "    return g\n",
        "\n",
        "def period(result): \n",
        "\n",
        "    for r in result:\n",
        "        guess = period_guess(r)\n",
        "        \n",
        "        for g in guess:\n",
        "            if period_verify(a, N, g):\n",
        "                return g\n",
        "            \n",
        "\n",
        "p = period(end_result)\n",
        "\n",
        "print(period_verify(a, N, p))\n"
      ]
    },
    {
      "cell_type": "code",
      "execution_count": null,
      "id": "eff80d61",
      "metadata": {
        "id": "eff80d61"
      },
      "outputs": [],
      "source": []
    },
    {
      "cell_type": "markdown",
      "id": "88b309a0",
      "metadata": {
        "id": "88b309a0"
      },
      "source": [
        "## 3.4.d Prime factoring (1 pt.)\n",
        "Now, exploit the <code>gcd</code> function to return the factorization of the number $15$ from the Shor's algorithm. If $p$ is the period of the function $f(x)$, then one of $N$'s prime factor might be given by \n",
        "$$\\gcd\\left(N, a^{p/2}+1\\right)$$\n",
        "or by\n",
        "$$\\gcd\\left(N, a^{p/2}-1\\right)$$"
      ]
    },
    {
      "cell_type": "code",
      "execution_count": null,
      "id": "f28faed0",
      "metadata": {
        "id": "f28faed0"
      },
      "outputs": [],
      "source": []
    },
    {
      "cell_type": "markdown",
      "id": "3138d6ab",
      "metadata": {
        "id": "3138d6ab"
      },
      "source": [
        "## 3.4.e Order finding and period finding (1 pt.)\n",
        "In this exercise, you have built Shor's factorization algorithm in a sligthly different way than in the class, based on the <b>period finding</b> rather than on the <b>order finding</b>. It is anyhow easy to show that order finding is a subclass of period finding.\n",
        "\n",
        "Period finding, as discussed above, aims at finding the least positive $r$ such that:\n",
        "$$f(x+r) = f(x) \\,\\,\\,\\,\\, \\forall x$$\n",
        "\n",
        "Order finding considers a specific function of the form:\n",
        "$$ f(x) = a^x \\mod N$$\n",
        "and aims at finding the least $x\\neq 0$ such that $f(x) = 1$. \n",
        "\n",
        "Show that order finding is a subclass of period finding. "
      ]
    },
    {
      "cell_type": "markdown",
      "id": "0c3d5893",
      "metadata": {
        "id": "0c3d5893"
      },
      "source": [
        "# 3.5 - A Variational Quantum Eigensolver (5 pts.)\n",
        "Variational Quantum Eigensolvers are hybrid algorithms, putting together elements of classical and quantum computation. They can be used to compute the ground state energy of a system. In this case, we will consider a system of two qubits, having Hamiltonian $\\mathcal{H}$ given by:\n",
        "$$\\mathcal{H} = \\ket{00}\\bra{00} - \\ket{10}\\bra{10} - \\ket{01}\\bra{01} + \\ket{11}\\bra{11}$$"
      ]
    },
    {
      "cell_type": "markdown",
      "id": "bfdb02dd",
      "metadata": {
        "id": "bfdb02dd"
      },
      "source": [
        "## 3.5.a Decomposition in terms of Pauli operators (1 pt.)\n",
        "The first step towards a VQE is writing $\\mathcal{H}$ as a linear combination of the Pauli operators $\\sigma_x$, $\\sigma_y$ and $\\sigma_z$, plus the identity (which could be called for instance $\\sigma_0$, and will be assumed to be a part of the Pauli operators set in the following). This is always possible, since they constitute a basis for the space of $2\\times 2$ complex matrices. Therefore, the tensor products of Pauli matrices will constitute a basis for the space of $4\\times 4$ complex matrices.\n",
        "\n",
        "Write a Python script <code>decompose_in_Pauli_matrices</code> which, given as input a $2\\times 2$ matrix, decomposes it on the Pauli matrices basis, giving as output the coefficients of the linear combination. Apply to the specific case of the Hamiltonian $\\mathcal{H}$."
      ]
    },
    {
      "cell_type": "code",
      "execution_count": null,
      "id": "ff755ad0",
      "metadata": {
        "id": "ff755ad0",
        "outputId": "5590dd1e-1c19-40d7-e099-7b149a23d70d"
      },
      "outputs": [
        {
          "name": "stdout",
          "output_type": "stream",
          "text": [
            "[0. 0. 0. 0. 0. 0. 0. 0. 0. 0. 0. 0. 0. 0. 0. 1.]\n"
          ]
        },
        {
          "name": "stderr",
          "output_type": "stream",
          "text": [
            "C:\\Users\\Pa\\AppData\\Local\\Temp/ipykernel_17528/2919520292.py:7: ComplexWarning: Casting complex values to real discards the imaginary part\n",
            "  coeffs[i,j] = (np.trace(np.kron(S[i],S[j])@Ham))/4\n"
          ]
        }
      ],
      "source": [
        "def decompose_in_Pauli_matrices(H):\n",
        "    Ham = H[0,0]*np.outer(np.kron(zero,zero),np.kron(zero,zero).conj().T)+H[1,0]*np.outer(np.kron(one,zero),np.kron(one,zero).conj().T)+H[0,1]*np.outer(np.kron(zero,one),np.kron(zero,one).conj().T)+H[1,1]*np.outer(np.kron(one,one),np.kron(one,one).conj().T)\n",
        "  \n",
        "    coeffs = np.zeros((4,4))\n",
        "    for i in range(4):\n",
        "        for j in range(4):\n",
        "            coeffs[i,j] = (np.trace(np.kron(S[i],S[j])@Ham))/4\n",
        "    \n",
        "        \n",
        "    \n",
        "    return coeffs.flatten()\n",
        "    \n",
        "H = np.array([[1,-1],[-1,1]])\n",
        "\n",
        "print(decompose_in_Pauli_matrices(H))\n"
      ]
    },
    {
      "cell_type": "markdown",
      "id": "c63fc17b",
      "metadata": {
        "id": "c63fc17b"
      },
      "source": [
        "## 3.5.b Measurement preparation (1 pt.)\n",
        "In the previous step, we have written $\\mathcal{H}$ as a linear combination of Pauli matrices; that is:\n",
        "$$\\mathcal{H} = \\sum_{\\alpha\\beta} h_{\\alpha\\beta} \\sigma_\\alpha \\otimes \\sigma_\\beta$$\n",
        "where $\\alpha$ and $\\beta$ take values in the set $\\{0,x,y,z\\}$. Hence, the expectation value of the Hamiltonian on a state $\\ket{\\psi}$ is given by:\n",
        "$$\\langle H \\rangle_\\psi = \\sum_{\\alpha\\beta} h_{\\alpha\\beta} \\langle\\sigma_\\alpha \\otimes \\sigma_\\beta\\rangle_\\psi$$\n",
        "\n",
        "The usual Qiskit measurement only allows us to measure on the computational basis, i.e. $\\sigma_z^{\\otimes n}$. However, we would like to be able to measure any couple of tensorized Pauli operators $\\sigma_\\alpha \\otimes \\sigma_\\beta$. We need therefore to use unitary operators to transform a measurement of $\\sigma_\\alpha\\otimes\\sigma_\\beta$ couple into a measurement of a single qubit, on $\\sigma_z$.\n",
        "\n",
        "As an example, we propose a circuit to measure $\\sigma_z\\otimes\\sigma_z$, which is given by:"
      ]
    },
    {
      "cell_type": "code",
      "execution_count": null,
      "id": "3ce635ba",
      "metadata": {
        "id": "3ce635ba",
        "outputId": "ecf4a99a-7bdc-446f-91a4-d7943f5164cb"
      },
      "outputs": [
        {
          "data": {
            "text/html": [
              "<pre style=\"word-wrap: normal;white-space: pre;background: #fff0;line-height: 1.1;font-family: &quot;Courier New&quot;,Courier,monospace\">     ┌───┐┌─┐\n",
              "q_0: ┤ X ├┤M├\n",
              "     └─┬─┘└╥┘\n",
              "q_1: ──■───╫─\n",
              "           ║ \n",
              "c: 1/══════╩═\n",
              "           0 </pre>"
            ],
            "text/plain": [
              "     ┌───┐┌─┐\n",
              "q_0: ┤ X ├┤M├\n",
              "     └─┬─┘└╥┘\n",
              "q_1: ──■───╫─\n",
              "           ║ \n",
              "c: 1/══════╩═\n",
              "           0 "
            ]
          },
          "execution_count": 183,
          "metadata": {},
          "output_type": "execute_result"
        }
      ],
      "source": [
        "measure_z_z = qiskit.QuantumCircuit(2,1)\n",
        "measure_z_z.cx(1,0)\n",
        "measure_z_z.measure(0,0)\n",
        "\n",
        "measure_z_z.draw()"
      ]
    },
    {
      "cell_type": "markdown",
      "id": "600e0598",
      "metadata": {
        "id": "600e0598"
      },
      "source": [
        "Create in Qiskit suitable circuits to do this for each one of the couples appearing in the Hamiltonian $\\mathcal{H}$. "
      ]
    },
    {
      "cell_type": "code",
      "execution_count": null,
      "id": "953b1d61",
      "metadata": {
        "id": "953b1d61",
        "outputId": "fe83a550-b08b-45e1-be46-7b2ab1c211b9"
      },
      "outputs": [
        {
          "data": {
            "text/html": [
              "<pre style=\"word-wrap: normal;white-space: pre;background: #fff0;line-height: 1.1;font-family: &quot;Courier New&quot;,Courier,monospace\">        ┌───┐┌─┐\n",
              "q_0: ─X─┤ H ├┤M├\n",
              "      │ └───┘└╥┘\n",
              "q_1: ─X───────╫─\n",
              "              ║ \n",
              "c: 1/═════════╩═\n",
              "              0 </pre>"
            ],
            "text/plain": [
              "        ┌───┐┌─┐\n",
              "q_0: ─X─┤ H ├┤M├\n",
              "      │ └───┘└╥┘\n",
              "q_1: ─X───────╫─\n",
              "              ║ \n",
              "c: 1/═════════╩═\n",
              "              0 "
            ]
          },
          "execution_count": 184,
          "metadata": {},
          "output_type": "execute_result"
        }
      ],
      "source": [
        "measure_i_x = qiskit.QuantumCircuit(2,1)\n",
        "measure_i_x.swap(0,1)\n",
        "measure_i_x.h(0)\n",
        "measure_i_x.measure(0,0)\n",
        "\n",
        "measure_i_x.draw()                          "
      ]
    },
    {
      "cell_type": "code",
      "execution_count": null,
      "id": "4f0c721a",
      "metadata": {
        "id": "4f0c721a",
        "outputId": "9f4ca557-70cf-40a2-a692-7a73e37f1770"
      },
      "outputs": [
        {
          "data": {
            "text/html": [
              "<pre style=\"word-wrap: normal;white-space: pre;background: #fff0;line-height: 1.1;font-family: &quot;Courier New&quot;,Courier,monospace\">        ┌───┐┌─────┐┌─┐\n",
              "q_0: ─X─┤ H ├┤ Sdg ├┤M├\n",
              "      │ └───┘└─────┘└╥┘\n",
              "q_1: ─X──────────────╫─\n",
              "                     ║ \n",
              "c: 1/════════════════╩═\n",
              "                     0 </pre>"
            ],
            "text/plain": [
              "        ┌───┐┌─────┐┌─┐\n",
              "q_0: ─X─┤ H ├┤ Sdg ├┤M├\n",
              "      │ └───┘└─────┘└╥┘\n",
              "q_1: ─X──────────────╫─\n",
              "                     ║ \n",
              "c: 1/════════════════╩═\n",
              "                     0 "
            ]
          },
          "execution_count": 185,
          "metadata": {},
          "output_type": "execute_result"
        }
      ],
      "source": [
        "measure_i_y = qiskit.QuantumCircuit(2,1)\n",
        "measure_i_y.swap(0,1)\n",
        "measure_i_y.h(0)\n",
        "measure_i_y.sdg(0)\n",
        "measure_i_y.measure(0,0)\n",
        "\n",
        "measure_i_y.draw()   "
      ]
    },
    {
      "cell_type": "code",
      "execution_count": null,
      "id": "f23a1f4a",
      "metadata": {
        "id": "f23a1f4a",
        "outputId": "4d026b8d-b230-4357-f967-3440c8eab98f"
      },
      "outputs": [
        {
          "data": {
            "text/html": [
              "<pre style=\"word-wrap: normal;white-space: pre;background: #fff0;line-height: 1.1;font-family: &quot;Courier New&quot;,Courier,monospace\">        ┌─┐\n",
              "q_0: ─X─┤M├\n",
              "      │ └╥┘\n",
              "q_1: ─X──╫─\n",
              "         ║ \n",
              "c: 1/════╩═\n",
              "         0 </pre>"
            ],
            "text/plain": [
              "        ┌─┐\n",
              "q_0: ─X─┤M├\n",
              "      │ └╥┘\n",
              "q_1: ─X──╫─\n",
              "         ║ \n",
              "c: 1/════╩═\n",
              "         0 "
            ]
          },
          "execution_count": 186,
          "metadata": {},
          "output_type": "execute_result"
        }
      ],
      "source": [
        "measure_i_z = qiskit.QuantumCircuit(2,1)\n",
        "measure_i_z.swap(0,1)\n",
        "measure_i_z.measure(0,0)\n",
        "\n",
        "measure_i_z.draw()"
      ]
    },
    {
      "cell_type": "code",
      "execution_count": null,
      "id": "0f05879f",
      "metadata": {
        "id": "0f05879f",
        "outputId": "c3e36803-f9bc-4b7a-caf8-36060d479c04"
      },
      "outputs": [
        {
          "data": {
            "text/html": [
              "<pre style=\"word-wrap: normal;white-space: pre;background: #fff0;line-height: 1.1;font-family: &quot;Courier New&quot;,Courier,monospace\">     ┌───┐┌─┐\n",
              "q_0: ┤ H ├┤M├\n",
              "     └───┘└╥┘\n",
              "q_1: ──────╫─\n",
              "           ║ \n",
              "c: 1/══════╩═\n",
              "           0 </pre>"
            ],
            "text/plain": [
              "     ┌───┐┌─┐\n",
              "q_0: ┤ H ├┤M├\n",
              "     └───┘└╥┘\n",
              "q_1: ──────╫─\n",
              "           ║ \n",
              "c: 1/══════╩═\n",
              "           0 "
            ]
          },
          "execution_count": 187,
          "metadata": {},
          "output_type": "execute_result"
        }
      ],
      "source": [
        "measure_x_i = qiskit.QuantumCircuit(2,1)\n",
        "measure_x_i.h(0)\n",
        "measure_x_i.measure(0,0)\n",
        "\n",
        "measure_x_i.draw()"
      ]
    },
    {
      "cell_type": "code",
      "execution_count": null,
      "id": "75beed3d",
      "metadata": {
        "id": "75beed3d",
        "outputId": "4b517ba1-a197-4227-8973-bb705bddb008"
      },
      "outputs": [
        {
          "data": {
            "text/html": [
              "<pre style=\"word-wrap: normal;white-space: pre;background: #fff0;line-height: 1.1;font-family: &quot;Courier New&quot;,Courier,monospace\">     ┌───┐┌───┐┌─┐\n",
              "q_0: ┤ H ├┤ X ├┤M├\n",
              "     ├───┤└─┬─┘└╥┘\n",
              "q_1: ┤ H ├──■───╫─\n",
              "     └───┘      ║ \n",
              "c: 1/═══════════╩═\n",
              "                0 </pre>"
            ],
            "text/plain": [
              "     ┌───┐┌───┐┌─┐\n",
              "q_0: ┤ H ├┤ X ├┤M├\n",
              "     ├───┤└─┬─┘└╥┘\n",
              "q_1: ┤ H ├──■───╫─\n",
              "     └───┘      ║ \n",
              "c: 1/═══════════╩═\n",
              "                0 "
            ]
          },
          "execution_count": 188,
          "metadata": {},
          "output_type": "execute_result"
        }
      ],
      "source": [
        "measure_x_x = qiskit.QuantumCircuit(2,1)\n",
        "measure_x_x.h(0)\n",
        "measure_x_x.h(1)\n",
        "measure_x_x.cx(1,0)\n",
        "measure_x_x.measure(0,0)\n",
        "\n",
        "measure_x_x.draw()"
      ]
    },
    {
      "cell_type": "code",
      "execution_count": null,
      "id": "c25d91ba",
      "metadata": {
        "id": "c25d91ba",
        "outputId": "6f23c14d-34ea-444b-9907-77a384ae8bb7"
      },
      "outputs": [
        {
          "data": {
            "text/html": [
              "<pre style=\"word-wrap: normal;white-space: pre;background: #fff0;line-height: 1.1;font-family: &quot;Courier New&quot;,Courier,monospace\">      ┌───┐      ┌───┐┌─┐\n",
              "q_0: ─┤ H ├──────┤ X ├┤M├\n",
              "     ┌┴───┴┐┌───┐└─┬─┘└╥┘\n",
              "q_1: ┤ Sdg ├┤ H ├──■───╫─\n",
              "     └─────┘└───┘      ║ \n",
              "c: 1/══════════════════╩═\n",
              "                       0 </pre>"
            ],
            "text/plain": [
              "      ┌───┐      ┌───┐┌─┐\n",
              "q_0: ─┤ H ├──────┤ X ├┤M├\n",
              "     ┌┴───┴┐┌───┐└─┬─┘└╥┘\n",
              "q_1: ┤ Sdg ├┤ H ├──■───╫─\n",
              "     └─────┘└───┘      ║ \n",
              "c: 1/══════════════════╩═\n",
              "                       0 "
            ]
          },
          "execution_count": 189,
          "metadata": {},
          "output_type": "execute_result"
        }
      ],
      "source": [
        "measure_x_y = qiskit.QuantumCircuit(2,1)\n",
        "measure_x_y.h(0)\n",
        "measure_x_y.sdg(1)\n",
        "measure_x_y.h(1)\n",
        "measure_x_y.cx(1,0)\n",
        "measure_x_y.measure(0,0)\n",
        "\n",
        "measure_x_y.draw()"
      ]
    },
    {
      "cell_type": "code",
      "execution_count": null,
      "id": "ab747b73",
      "metadata": {
        "id": "ab747b73",
        "outputId": "921caab2-92f3-468b-979c-619190d84adf"
      },
      "outputs": [
        {
          "data": {
            "text/html": [
              "<pre style=\"word-wrap: normal;white-space: pre;background: #fff0;line-height: 1.1;font-family: &quot;Courier New&quot;,Courier,monospace\">     ┌───┐┌───┐┌─┐\n",
              "q_0: ┤ H ├┤ X ├┤M├\n",
              "     └───┘└─┬─┘└╥┘\n",
              "q_1: ───────■───╫─\n",
              "                ║ \n",
              "c: 1/═══════════╩═\n",
              "                0 </pre>"
            ],
            "text/plain": [
              "     ┌───┐┌───┐┌─┐\n",
              "q_0: ┤ H ├┤ X ├┤M├\n",
              "     └───┘└─┬─┘└╥┘\n",
              "q_1: ───────■───╫─\n",
              "                ║ \n",
              "c: 1/═══════════╩═\n",
              "                0 "
            ]
          },
          "execution_count": 190,
          "metadata": {},
          "output_type": "execute_result"
        }
      ],
      "source": [
        "measure_x_z = qiskit.QuantumCircuit(2,1)\n",
        "measure_x_z.h(0)\n",
        "measure_x_z.cx(1,0)\n",
        "measure_x_z.measure(0,0)\n",
        "\n",
        "measure_x_z.draw()"
      ]
    },
    {
      "cell_type": "code",
      "execution_count": null,
      "id": "997f16d3",
      "metadata": {
        "id": "997f16d3",
        "outputId": "deb2502f-1dfb-45fb-904d-835ef8cfea3f"
      },
      "outputs": [
        {
          "data": {
            "text/html": [
              "<pre style=\"word-wrap: normal;white-space: pre;background: #fff0;line-height: 1.1;font-family: &quot;Courier New&quot;,Courier,monospace\">     ┌─────┐┌───┐┌─┐\n",
              "q_0: ┤ Sdg ├┤ H ├┤M├\n",
              "     └─────┘└───┘└╥┘\n",
              "q_1: ─────────────╫─\n",
              "                  ║ \n",
              "c: 1/═════════════╩═\n",
              "                  0 </pre>"
            ],
            "text/plain": [
              "     ┌─────┐┌───┐┌─┐\n",
              "q_0: ┤ Sdg ├┤ H ├┤M├\n",
              "     └─────┘└───┘└╥┘\n",
              "q_1: ─────────────╫─\n",
              "                  ║ \n",
              "c: 1/═════════════╩═\n",
              "                  0 "
            ]
          },
          "execution_count": 191,
          "metadata": {},
          "output_type": "execute_result"
        }
      ],
      "source": [
        "measure_y_i = qiskit.QuantumCircuit(2,1)\n",
        "measure_y_i.sdg(0)\n",
        "measure_y_i.h(0)\n",
        "measure_y_i.measure(0,0)\n",
        "\n",
        "measure_y_i.draw()"
      ]
    },
    {
      "cell_type": "code",
      "execution_count": null,
      "id": "afb0b68d",
      "metadata": {
        "id": "afb0b68d",
        "outputId": "9d24705e-b156-4ac8-b6f9-648cd6c5a309"
      },
      "outputs": [
        {
          "data": {
            "text/html": [
              "<pre style=\"word-wrap: normal;white-space: pre;background: #fff0;line-height: 1.1;font-family: &quot;Courier New&quot;,Courier,monospace\">      ┌───┐      ┌───┐┌─┐\n",
              "q_0: ─┤ H ├──────┤ X ├┤M├\n",
              "     ┌┴───┴┐┌───┐└─┬─┘└╥┘\n",
              "q_1: ┤ Sdg ├┤ H ├──■───╫─\n",
              "     └─────┘└───┘      ║ \n",
              "c: 1/══════════════════╩═\n",
              "                       0 </pre>"
            ],
            "text/plain": [
              "      ┌───┐      ┌───┐┌─┐\n",
              "q_0: ─┤ H ├──────┤ X ├┤M├\n",
              "     ┌┴───┴┐┌───┐└─┬─┘└╥┘\n",
              "q_1: ┤ Sdg ├┤ H ├──■───╫─\n",
              "     └─────┘└───┘      ║ \n",
              "c: 1/══════════════════╩═\n",
              "                       0 "
            ]
          },
          "execution_count": 192,
          "metadata": {},
          "output_type": "execute_result"
        }
      ],
      "source": [
        "measure_y_x = qiskit.QuantumCircuit(2,1)\n",
        "measure_y_x.sdg(1)\n",
        "measure_y_x.h(1)\n",
        "measure_y_x.h(0)\n",
        "measure_y_x.cx(1,0)\n",
        "measure_y_x.measure(0,0)\n",
        "\n",
        "measure_y_x.draw()"
      ]
    },
    {
      "cell_type": "code",
      "execution_count": null,
      "id": "e6a1f558",
      "metadata": {
        "id": "e6a1f558",
        "outputId": "5c2f507c-9557-4399-9f8a-e315a6b6eea1"
      },
      "outputs": [
        {
          "data": {
            "text/html": [
              "<pre style=\"word-wrap: normal;white-space: pre;background: #fff0;line-height: 1.1;font-family: &quot;Courier New&quot;,Courier,monospace\">     ┌─────┐┌───┐┌───┐┌─┐\n",
              "q_0: ┤ Sdg ├┤ H ├┤ X ├┤M├\n",
              "     ├─────┤├───┤└─┬─┘└╥┘\n",
              "q_1: ┤ Sdg ├┤ H ├──■───╫─\n",
              "     └─────┘└───┘      ║ \n",
              "c: 1/══════════════════╩═\n",
              "                       0 </pre>"
            ],
            "text/plain": [
              "     ┌─────┐┌───┐┌───┐┌─┐\n",
              "q_0: ┤ Sdg ├┤ H ├┤ X ├┤M├\n",
              "     ├─────┤├───┤└─┬─┘└╥┘\n",
              "q_1: ┤ Sdg ├┤ H ├──■───╫─\n",
              "     └─────┘└───┘      ║ \n",
              "c: 1/══════════════════╩═\n",
              "                       0 "
            ]
          },
          "execution_count": 193,
          "metadata": {},
          "output_type": "execute_result"
        }
      ],
      "source": [
        "measure_y_y = qiskit.QuantumCircuit(2,1)\n",
        "measure_y_y.sdg(1)\n",
        "measure_y_y.h(1)\n",
        "measure_y_y.sdg(0)\n",
        "measure_y_y.h(0)\n",
        "measure_y_y.cx(1,0)\n",
        "measure_y_y.measure(0,0)\n",
        "\n",
        "measure_y_y.draw()"
      ]
    },
    {
      "cell_type": "code",
      "execution_count": null,
      "id": "6c7f5c38",
      "metadata": {
        "id": "6c7f5c38",
        "outputId": "afc1ca5d-a4bd-4556-af8d-be4d9f125f74"
      },
      "outputs": [
        {
          "data": {
            "text/html": [
              "<pre style=\"word-wrap: normal;white-space: pre;background: #fff0;line-height: 1.1;font-family: &quot;Courier New&quot;,Courier,monospace\">     ┌─────┐┌───┐┌───┐┌─┐\n",
              "q_0: ┤ Sdg ├┤ H ├┤ X ├┤M├\n",
              "     └─────┘└───┘└─┬─┘└╥┘\n",
              "q_1: ──────────────■───╫─\n",
              "                       ║ \n",
              "c: 1/══════════════════╩═\n",
              "                       0 </pre>"
            ],
            "text/plain": [
              "     ┌─────┐┌───┐┌───┐┌─┐\n",
              "q_0: ┤ Sdg ├┤ H ├┤ X ├┤M├\n",
              "     └─────┘└───┘└─┬─┘└╥┘\n",
              "q_1: ──────────────■───╫─\n",
              "                       ║ \n",
              "c: 1/══════════════════╩═\n",
              "                       0 "
            ]
          },
          "execution_count": 194,
          "metadata": {},
          "output_type": "execute_result"
        }
      ],
      "source": [
        "measure_y_z = qiskit.QuantumCircuit(2,1)\n",
        "measure_y_z.sdg(0)\n",
        "measure_y_z.h(0)\n",
        "measure_y_z.cx(1,0)\n",
        "measure_y_z.measure(0,0)\n",
        "\n",
        "measure_y_z.draw()"
      ]
    },
    {
      "cell_type": "code",
      "execution_count": null,
      "id": "4ed211a5",
      "metadata": {
        "id": "4ed211a5",
        "outputId": "c028922c-03f8-4fe1-9409-f5fc6e0f2a52"
      },
      "outputs": [
        {
          "data": {
            "text/html": [
              "<pre style=\"word-wrap: normal;white-space: pre;background: #fff0;line-height: 1.1;font-family: &quot;Courier New&quot;,Courier,monospace\">     ┌─┐\n",
              "q_0: ┤M├\n",
              "     └╥┘\n",
              "q_1: ─╫─\n",
              "      ║ \n",
              "c: 1/═╩═\n",
              "      0 </pre>"
            ],
            "text/plain": [
              "     ┌─┐\n",
              "q_0: ┤M├\n",
              "     └╥┘\n",
              "q_1: ─╫─\n",
              "      ║ \n",
              "c: 1/═╩═\n",
              "      0 "
            ]
          },
          "execution_count": 195,
          "metadata": {},
          "output_type": "execute_result"
        }
      ],
      "source": [
        "measure_z_i = qiskit.QuantumCircuit(2,1)\n",
        "measure_z_i.measure(0,0)\n",
        "\n",
        "measure_z_i.draw()"
      ]
    },
    {
      "cell_type": "code",
      "execution_count": null,
      "id": "e4ff59fe",
      "metadata": {
        "id": "e4ff59fe",
        "outputId": "f543829e-070f-47ee-9b2d-0760eefbd45c"
      },
      "outputs": [
        {
          "data": {
            "text/html": [
              "<pre style=\"word-wrap: normal;white-space: pre;background: #fff0;line-height: 1.1;font-family: &quot;Courier New&quot;,Courier,monospace\">          ┌───┐┌─┐\n",
              "q_0: ─────┤ X ├┤M├\n",
              "     ┌───┐└─┬─┘└╥┘\n",
              "q_1: ┤ H ├──■───╫─\n",
              "     └───┘      ║ \n",
              "c: 1/═══════════╩═\n",
              "                0 </pre>"
            ],
            "text/plain": [
              "          ┌───┐┌─┐\n",
              "q_0: ─────┤ X ├┤M├\n",
              "     ┌───┐└─┬─┘└╥┘\n",
              "q_1: ┤ H ├──■───╫─\n",
              "     └───┘      ║ \n",
              "c: 1/═══════════╩═\n",
              "                0 "
            ]
          },
          "execution_count": 196,
          "metadata": {},
          "output_type": "execute_result"
        }
      ],
      "source": [
        "measure_z_x = qiskit.QuantumCircuit(2,1)\n",
        "measure_z_x.h(1)\n",
        "measure_z_x.cx(1,0)\n",
        "measure_z_x.measure(0,0)\n",
        "\n",
        "measure_z_x.draw()"
      ]
    },
    {
      "cell_type": "code",
      "execution_count": null,
      "id": "544d77b1",
      "metadata": {
        "id": "544d77b1",
        "outputId": "1a9fa4be-f324-4711-e47c-2b9fdc636a0d"
      },
      "outputs": [
        {
          "data": {
            "text/html": [
              "<pre style=\"word-wrap: normal;white-space: pre;background: #fff0;line-height: 1.1;font-family: &quot;Courier New&quot;,Courier,monospace\">                 ┌───┐┌─┐\n",
              "q_0: ────────────┤ X ├┤M├\n",
              "     ┌─────┐┌───┐└─┬─┘└╥┘\n",
              "q_1: ┤ Sdg ├┤ H ├──■───╫─\n",
              "     └─────┘└───┘      ║ \n",
              "c: 1/══════════════════╩═\n",
              "                       0 </pre>"
            ],
            "text/plain": [
              "                 ┌───┐┌─┐\n",
              "q_0: ────────────┤ X ├┤M├\n",
              "     ┌─────┐┌───┐└─┬─┘└╥┘\n",
              "q_1: ┤ Sdg ├┤ H ├──■───╫─\n",
              "     └─────┘└───┘      ║ \n",
              "c: 1/══════════════════╩═\n",
              "                       0 "
            ]
          },
          "execution_count": 197,
          "metadata": {},
          "output_type": "execute_result"
        }
      ],
      "source": [
        "measure_z_y = qiskit.QuantumCircuit(2,1)\n",
        "measure_z_y.sdg(1)\n",
        "measure_z_y.h(1)\n",
        "measure_z_y.cx(1,0)\n",
        "measure_z_y.measure(0,0)\n",
        "\n",
        "measure_z_y.draw()"
      ]
    },
    {
      "cell_type": "markdown",
      "id": "577c2ae3",
      "metadata": {
        "id": "577c2ae3"
      },
      "source": [
        "## 3.5.c Ansatz (1 pt.)\n",
        "We will need to somehow define a <b>family</b> of states in which we would like to minimize the expectation value of the energy. To do so, we consider an <b>ansatz</b>, expressing our state as a function of some parameters. In this case, we will consider the ansatz:\n",
        "$$\\ket{\\psi(\\theta)} = \\left[\\left(RX(\\theta)\\otimes\\mathbb{I}\\right) CNOT(H\\otimes\\mathbb{I})\\right]\\ket{00}$$\n",
        "Create a Python function which generates a quantum circuit having initial state $\\ket{00}$, and transforming it into $\\ket{\\psi(\\theta)}$. It could be useful to look at the documentation of the <code>RX</code> gate <a href=\"https://qiskit.org/documentation/stubs/qiskit.circuit.library.RXGate.html\">here</a>."
      ]
    },
    {
      "cell_type": "code",
      "execution_count": null,
      "id": "03cc10b6",
      "metadata": {
        "id": "03cc10b6",
        "outputId": "134d2f55-2499-48a0-8d77-f32b462e5cee"
      },
      "outputs": [
        {
          "data": {
            "text/html": [
              "<pre style=\"word-wrap: normal;white-space: pre;background: #fff0;line-height: 1.1;font-family: &quot;Courier New&quot;,Courier,monospace\">     ┌───┐     ┌───────┐\n",
              "q_0: ┤ H ├──■──┤ Rx(θ) ├\n",
              "     └───┘┌─┴─┐└───────┘\n",
              "q_1: ─────┤ X ├─────────\n",
              "          └───┘         \n",
              "c: 1/═══════════════════\n",
              "                        </pre>"
            ],
            "text/plain": [
              "     ┌───┐     ┌───────┐\n",
              "q_0: ┤ H ├──■──┤ Rx(θ) ├\n",
              "     └───┘┌─┴─┐└───────┘\n",
              "q_1: ─────┤ X ├─────────\n",
              "          └───┘         \n",
              "c: 1/═══════════════════\n",
              "                        "
            ]
          },
          "execution_count": 198,
          "metadata": {},
          "output_type": "execute_result"
        }
      ],
      "source": [
        "Anzats = qiskit.QuantumCircuit(2,1)\n",
        "\n",
        "theta = Parameter('θ')\n",
        "\n",
        "Anzats.h(0)\n",
        "Anzats.cx(0,1)\n",
        "Anzats.rx(theta,0)\n",
        "\n",
        "Anzats.draw()\n",
        "\n"
      ]
    },
    {
      "cell_type": "code",
      "execution_count": null,
      "id": "5b48c4c9",
      "metadata": {
        "id": "5b48c4c9"
      },
      "outputs": [],
      "source": []
    },
    {
      "cell_type": "markdown",
      "id": "e74935e0",
      "metadata": {
        "id": "e74935e0"
      },
      "source": [
        "## 3.5.d Measuring energy (1 pt.)\n",
        "With the building blocks created in the previous steps, we are now able to compute the expectation value\n",
        "$$\\langle \\mathcal{H} \\rangle_{\\psi(\\theta)} = \\bra{\\psi(\\theta)}\\mathcal{H}\\ket{\\psi(\\theta)}$$\n",
        "Create a Python function <code>vqe_step</code> taking as input the value of $\\theta$, which performs a custom-defined <code>number_runs</code> times all the Pauli measurements necessary to compute the expectation value of the energy. The function should return the estimated expectation value of the energy."
      ]
    },
    {
      "cell_type": "code",
      "execution_count": null,
      "id": "ad3c67d8",
      "metadata": {
        "id": "ad3c67d8",
        "outputId": "1f1eb928-8186-458f-a0b6-796b31ccb797"
      },
      "outputs": [
        {
          "name": "stderr",
          "output_type": "stream",
          "text": [
            "C:\\Users\\Pa\\AppData\\Local\\Temp/ipykernel_17528/2919520292.py:7: ComplexWarning: Casting complex values to real discards the imaginary part\n",
            "  coeffs[i,j] = (np.trace(np.kron(S[i],S[j])@Ham))/4\n"
          ]
        }
      ],
      "source": [
        "numbers = decompose_in_Pauli_matrices(H)\n",
        "\n",
        "#print(numbers)\n",
        "\n",
        "sim = Aer.get_backend('aer_simulator')\n",
        "\n",
        "number_runs = 2**17 # number of samples used for statistics\n",
        "\n",
        "A = 1.47e-6 #unit of A is eV\n",
        "\n",
        "def vqe_step(theta):\n",
        "\n",
        "    Anzats = qiskit.QuantumCircuit(2,1)\n",
        "\n",
        "    \n",
        "    \n",
        "    Anzats.h(0)\n",
        "    Anzats.cx(0,1)\n",
        "    Anzats.rx(theta,0)\n",
        "\n",
        "   \n",
        "\n",
        "\n",
        "    \n",
        "\n",
        "    \n",
        "                \n",
        "    E_sim = []\n",
        "    for state_init in [Anzats]:\n",
        "        Energy_meas = []\n",
        "        for measure_circuit in [measure_z_z]:\n",
        "    \n",
        "            # run the circuit with the selected measurement and get the number of samples that output each bit value\n",
        "            qc = state_init.compose(measure_circuit)\n",
        "            qc_trans = transpile(qc, sim)\n",
        "            counts = sim.run(qc_trans, shots=number_runs).result().get_counts()\n",
        "          \n",
        "\n",
        "            # calculate the probabilities for each computational basis\n",
        "            probs = {}\n",
        "            for output in ['0','1']:\n",
        "                if output in counts:\n",
        "                    probs[output] = counts[output]/number_runs\n",
        "                else:\n",
        "                    probs[output] = 0\n",
        "            \n",
        "            Energy_meas.append(  probs['0'] - probs['1'] )\n",
        " \n",
        "        E_sim.append(np.sum(np.array(Energy_meas)))\n",
        "    \n",
        "    return(E_sim[0])\n",
        "\n",
        "\n",
        "    \n"
      ]
    },
    {
      "cell_type": "markdown",
      "id": "9a33d3c6",
      "metadata": {
        "id": "9a33d3c6"
      },
      "source": [
        "## 3.5.e Classical minimization (1 pt.)\n",
        "The function <code>vqe_step</code> can now be used as part of a classical optimization loop. \n",
        "\n",
        "Write Python code to find the value of $\\theta$ (let's call it $\\tilde{\\theta}$) corresponding to the lowest expectation value of the energy, as computed by the <code>vqe_step</code> function. The state $\\ket{\\psi(\\tilde{\\theta})}$ is therefore our best estimation for the ground state of the Hamiltonian $\\mathcal{H}$. It could be useful to exploit the highly-optimized minimization algorithms available in <code>scipy</code>, have a look <a href=\"https://docs.scipy.org/doc/scipy/reference/generated/scipy.optimize.minimize.html\">here</a>. \n",
        "\n",
        "Output the value of $\\theta$ yielding the lowest energy, and the corresponding state $\\ket{\\psi(\\tilde{\\theta})}$. Diagonalize the Hamiltonian $\\mathcal{H}$ (by hand or with Python) and discuss whether the state $\\ket{\\psi(\\tilde{\\theta})}$ found is the actual ground state of the Hamiltonian."
      ]
    },
    {
      "cell_type": "code",
      "execution_count": null,
      "id": "acc8b374",
      "metadata": {
        "id": "acc8b374",
        "outputId": "c593d46a-4308-4f17-9a98-0b15e112d6c3"
      },
      "outputs": [
        {
          "data": {
            "text/plain": [
              "     fun: -1.0\n",
              "    nfev: 29\n",
              "     nit: 24\n",
              " success: True\n",
              "       x: 3.1483037753879253"
            ]
          },
          "execution_count": 200,
          "metadata": {},
          "output_type": "execute_result"
        }
      ],
      "source": [
        "scipy.optimize.minimize_scalar(vqe_step)\n",
        "\n"
      ]
    },
    {
      "cell_type": "code",
      "execution_count": null,
      "id": "515643fa",
      "metadata": {
        "id": "515643fa",
        "outputId": "3cee2056-3a51-42de-b810-e7576d5335f0"
      },
      "outputs": [
        {
          "name": "stdout",
          "output_type": "stream",
          "text": [
            "Our optimal value of theta is pi\n"
          ]
        }
      ],
      "source": [
        "print('Our optimal value of theta is pi')"
      ]
    },
    {
      "cell_type": "code",
      "execution_count": null,
      "id": "41ff7800",
      "metadata": {
        "id": "41ff7800",
        "outputId": "a6958d3f-24e5-4d8e-961a-825ccaef4c52"
      },
      "outputs": [
        {
          "data": {
            "text/html": [
              "<pre style=\"word-wrap: normal;white-space: pre;background: #fff0;line-height: 1.1;font-family: &quot;Courier New&quot;,Courier,monospace\">     ┌───┐     ┌───────┐\n",
              "q_0: ┤ H ├──■──┤ Rx(π) ├\n",
              "     └───┘┌─┴─┐└───────┘\n",
              "q_1: ─────┤ X ├─────────\n",
              "          └───┘         </pre>"
            ],
            "text/plain": [
              "     ┌───┐     ┌───────┐\n",
              "q_0: ┤ H ├──■──┤ Rx(π) ├\n",
              "     └───┘┌─┴─┐└───────┘\n",
              "q_1: ─────┤ X ├─────────\n",
              "          └───┘         "
            ]
          },
          "execution_count": 202,
          "metadata": {},
          "output_type": "execute_result"
        }
      ],
      "source": [
        "qc = qiskit.QuantumCircuit(2)\n",
        "\n",
        "theta = np.pi\n",
        "\n",
        "qc.h(0)\n",
        "qc.cx(0,1)\n",
        "qc.rx(theta,0)\n",
        "\n",
        "qc.draw()\n",
        "\n"
      ]
    },
    {
      "cell_type": "code",
      "execution_count": null,
      "id": "ed2d1c9e",
      "metadata": {
        "id": "ed2d1c9e",
        "outputId": "19c64ab5-9aa7-4f66-d90a-adaf6c74dc8c"
      },
      "outputs": [
        {
          "name": "stdout",
          "output_type": "stream",
          "text": [
            "Statevector([4.32978028e-17+0.j        , 0.00000000e+00-0.70710678j,\n",
            "             0.00000000e+00-0.70710678j, 4.32978028e-17+0.j        ],\n",
            "            dims=(2, 2))\n"
          ]
        }
      ],
      "source": [
        "\n",
        "# Apply initialisation operation to the 0th qubit\n",
        "qc.save_statevector()   # Tell simulator to save statevector\n",
        "qobj = assemble(qc)     # Create a Qobj from the circuit for the simulator to run\n",
        "result = sim.run(qobj).result() # Do the simulation and return the result\n",
        "\n",
        "out_state = result.get_statevector()\n",
        "print(out_state) # Display the output state vector\n",
        "\n",
        "\n"
      ]
    },
    {
      "cell_type": "code",
      "execution_count": null,
      "id": "c35208b4",
      "metadata": {
        "id": "c35208b4"
      },
      "outputs": [],
      "source": []
    },
    {
      "cell_type": "code",
      "execution_count": null,
      "id": "bccc1a96",
      "metadata": {
        "id": "bccc1a96",
        "outputId": "5d7c8004-db26-4e8e-db26-366d288b03fb"
      },
      "outputs": [
        {
          "name": "stdout",
          "output_type": "stream",
          "text": [
            "[ 1. -1. -1.  1.]\n",
            "[[1. 0. 0. 0.]\n",
            " [0. 1. 0. 0.]\n",
            " [0. 0. 1. 0.]\n",
            " [0. 0. 0. 1.]]\n",
            "Our real Ground state wavefns are (0,1,0,0) and (0,0,1,0)\n"
          ]
        }
      ],
      "source": [
        "Ham = np.diag([1,-1,-1,1])\n",
        "#print(Ham)\n",
        "\n",
        "eigs = np.linalg.eig(Ham)\n",
        "print(eigs[0])\n",
        "print(eigs[1])\n",
        "\n",
        "print('Our real Ground state wavefns are (0,1,0,0) and (0,0,1,0)')"
      ]
    },
    {
      "cell_type": "code",
      "execution_count": null,
      "id": "cc348b54",
      "metadata": {
        "id": "cc348b54",
        "outputId": "a99c9e47-cb60-443d-aff7-d8e0409a7db1"
      },
      "outputs": [
        {
          "name": "stdout",
          "output_type": "stream",
          "text": [
            "The ground state that we get from our VQE analysis does not correspond exactly to the \n",
            "real ground state of the Hamiltonian, which are two degenerate energy states.\n",
            "However, the ground state we have found is a linear combination of these two states\n",
            "With a normalisation factor which I consider to be a reasonable approximation of \n",
            "the ground state\n"
          ]
        }
      ],
      "source": [
        "print('The ground state that we get from our VQE analysis does not correspond exactly to the ')\n",
        "print('real ground state of the Hamiltonian, which are two degenerate energy states.')\n",
        "print('However, the ground state we have found is a linear combination of these two states')\n",
        "print('With a normalisation factor which I consider to be a reasonable approximation of ')\n",
        "print('the ground state')"
      ]
    },
    {
      "cell_type": "markdown",
      "id": "f703d113",
      "metadata": {
        "id": "f703d113"
      },
      "source": [
        "$|\\psi(\\tilde{\\theta})\\rangle=\\frac{1}{\\sqrt{2}}(0,-i,-i, 0)$"
      ]
    },
    {
      "cell_type": "code",
      "execution_count": null,
      "id": "00a1e2f9",
      "metadata": {
        "id": "00a1e2f9"
      },
      "outputs": [],
      "source": []
    }
  ],
  "metadata": {
    "colab": {
      "provenance": [],
      "include_colab_link": true
    },
    "kernelspec": {
      "display_name": "Python 3 (ipykernel)",
      "language": "python",
      "name": "python3"
    },
    "language_info": {
      "codemirror_mode": {
        "name": "ipython",
        "version": 3
      },
      "file_extension": ".py",
      "mimetype": "text/x-python",
      "name": "python",
      "nbconvert_exporter": "python",
      "pygments_lexer": "ipython3",
      "version": "3.9.12"
    }
  },
  "nbformat": 4,
  "nbformat_minor": 5
}